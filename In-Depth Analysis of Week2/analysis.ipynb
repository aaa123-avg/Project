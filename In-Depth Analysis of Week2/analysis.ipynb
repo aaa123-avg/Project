{
 "cells": [
  {
   "cell_type": "markdown",
   "id": "f2350bd8",
   "metadata": {},
   "source": [
    "# 数据处理"
   ]
  },
  {
   "cell_type": "code",
   "execution_count": null,
   "id": "e37378a8",
   "metadata": {},
   "outputs": [],
   "source": [
    "import pandas as pd\n",
    "import numpy as np\n",
    "import warnings\n",
    "warnings.filterwarnings('ignore')\n",
    "\n",
    "df = pd.read_csv('US-pumpkins.csv')\n",
    "df.info()\n",
    "df.head()"
   ]
  },
  {
   "cell_type": "code",
   "execution_count": null,
   "id": "96f88ef3",
   "metadata": {},
   "outputs": [],
   "source": [
    "df.shape"
   ]
  },
  {
   "cell_type": "code",
   "execution_count": null,
   "id": "6c23a603",
   "metadata": {},
   "outputs": [],
   "source": [
    "missing_values = df.isnull().sum()\n",
    "print(missing_values[missing_values > 0])"
   ]
  },
  {
   "cell_type": "code",
   "execution_count": null,
   "id": "3119a412",
   "metadata": {},
   "outputs": [],
   "source": [
    "# 定义缺失值比例阈值\n",
    "missing_threshold = 0.75\n",
    "\n",
    "# 删除缺失值比例超过阈值的列\n",
    "drop = df.columns[df.isnull().mean() > missing_threshold]\n",
    "df = df.drop(drop, axis=1)\n",
    "\n",
    "missing_values = df.isnull().sum()\n",
    "print(missing_values[missing_values > 0])"
   ]
  },
  {
   "cell_type": "code",
   "execution_count": null,
   "id": "901f2406",
   "metadata": {},
   "outputs": [],
   "source": [
    "# 填充缺失值\n",
    "df['Variety'] = df['Variety'].fillna('unknown')\n",
    "df['Origin'] = df['Origin'].fillna('unknown')\n",
    "df['Item Size'] = df['Item Size'].fillna('unknown')\n",
    "df['Color'] = df['Color'].fillna('unknown')\n",
    "df['Mostly High'] = df['Mostly High'].fillna(df['Mostly High'].mean())\n",
    "df['Mostly Low'] = df['Mostly Low'].fillna(df['Mostly Low'].mean())"
   ]
  },
  {
   "cell_type": "code",
   "execution_count": null,
   "id": "f1e08302",
   "metadata": {},
   "outputs": [],
   "source": [
    "df.isnull().sum()"
   ]
  },
  {
   "cell_type": "code",
   "execution_count": null,
   "id": "8ae9f108",
   "metadata": {},
   "outputs": [],
   "source": [
    "# 将价格列转换为数值类型（去除美元符号并转换为浮点数）\n",
    "price_columns = ['Low Price', 'High Price', 'Mostly Low', 'Mostly High']\n",
    "for col in price_columns:\n",
    "    df[col] = df[col].replace({'\\$': '', ',': ''}, regex=True).astype(float)\n",
    "\n",
    "# 将日期列转换为日期类型\n",
    "df['Date'] = pd.to_datetime(df['Date'])"
   ]
  },
  {
   "cell_type": "code",
   "execution_count": null,
   "id": "4164dc0b",
   "metadata": {},
   "outputs": [],
   "source": [
    "df.info()\n",
    "df.head()"
   ]
  },
  {
   "cell_type": "code",
   "execution_count": null,
   "id": "7e3d0739",
   "metadata": {},
   "outputs": [],
   "source": [
    "# 识别分类变量列\n",
    "categorical_cols = df.select_dtypes(include=['object']).columns.tolist()\n",
    "print(\"分类变量列：\", categorical_cols)\n",
    "\n",
    "# 对分类变量进行独热编码\n",
    "df_encoded = pd.get_dummies(df, columns=categorical_cols, drop_first=True)\n",
    "print(\"\\n独热编码后数据集形状：\", df_encoded.shape)\n",
    "\n",
    "# 查看编码后数据示例\n",
    "print(\"\\n独热编码后数据前5行：\")\n",
    "pd.DataFrame(df_encoded.iloc[:5, :]).head()"
   ]
  },
  {
   "cell_type": "markdown",
   "id": "7fe3434d",
   "metadata": {},
   "source": [
    "# 特征选择"
   ]
  },
  {
   "cell_type": "code",
   "execution_count": null,
   "id": "7ac920a4",
   "metadata": {},
   "outputs": [],
   "source": [
    "# 计算特征相关性矩阵\n",
    "correlation = df_encoded.corr()\n",
    "pd.DataFrame(correlation)"
   ]
  },
  {
   "cell_type": "code",
   "execution_count": null,
   "id": "84080666",
   "metadata": {},
   "outputs": [],
   "source": [
    "# 提取与价格相关的特征相关性\n",
    "price_correlation = correlation['High Price'].sort_values(ascending=False)\n",
    "print(\"与High Price相关性强的特征：\")\n",
    "print(price_correlation[abs(price_correlation) > 0.3])"
   ]
  },
  {
   "cell_type": "code",
   "execution_count": null,
   "id": "b06ac1c8",
   "metadata": {},
   "outputs": [],
   "source": [
    "# 选择与价格相关性强的特征\n",
    "# selected_features = ['Package_36 inch bins', 'Package_24 inch bins', 'City Name_BOSTON', 'Package_1/2 bushel cartons', 'Variety_MINIATURE']\n",
    "selected_features = price_correlation[abs(price_correlation) > 0.3].index\n",
    "print(selected_features)\n",
    "\n",
    "# 准备特征和目标变量\n",
    "y = df_encoded['High Price']\n",
    "X = df_encoded[selected_features].drop(columns = 'High Price')\n",
    "\n",
    "print(X.shape, y.shape)"
   ]
  },
  {
   "cell_type": "code",
   "execution_count": null,
   "id": "435b52bf",
   "metadata": {},
   "outputs": [],
   "source": [
    "'''# 选择与价格相关性强的特征\n",
    "selected_features = ['Package_36 inch bins', 'Package_24 inch bins', 'City Name_BOSTON', 'Package_1/2 bushel cartons', 'Variety_MINIATURE']\n",
    "\n",
    "# 准备特征和目标变量\n",
    "y = df_encoded['High Price']\n",
    "X = df_encoded[selected_features]'''"
   ]
  },
  {
   "cell_type": "markdown",
   "id": "f5a6b7e0",
   "metadata": {},
   "source": [
    "# 模型构建"
   ]
  },
  {
   "cell_type": "code",
   "execution_count": null,
   "id": "6cbe762a",
   "metadata": {},
   "outputs": [],
   "source": [
    "from sklearn.model_selection import train_test_split\n",
    "from sklearn.model_selection import GridSearchCV, cross_val_score, KFold\n",
    "from sklearn.ensemble import GradientBoostingRegressor\n",
    "from sklearn.metrics import mean_squared_error, r2_score, mean_absolute_error\n",
    "\n",
    "# 划分训练集和测试集\n",
    "X_train, X_test, y_train, y_test = train_test_split(X, y, test_size=0.2, random_state=42)\n",
    "\n",
    "# 构建GBDT模型\n",
    "gbdt = GradientBoostingRegressor(n_estimators=100, max_depth=4, random_state=42)\n",
    "\n",
    "gbdt.fit(X_train, y_train)\n",
    "\n",
    "y_pred = gbdt.predict(X_test)\n",
    "\n",
    "print(\"MSE:\", mean_squared_error(y_test, y_pred))\n",
    "print(\"R2:\", r2_score(y_test, y_pred))\n",
    "print(\"MAE:\", mean_absolute_error(y_test, y_pred))\n",
    "print(\"RMSE:\", np.sqrt(mean_squared_error(y_test, y_pred)))"
   ]
  },
  {
   "cell_type": "code",
   "execution_count": null,
   "id": "b2b624e1",
   "metadata": {},
   "outputs": [],
   "source": [
    "import pandas as pd\n",
    "import numpy as np\n",
    "import warnings\n",
    "warnings.filterwarnings('ignore')\n",
    "\n",
    "df = pd.read_csv('US-pumpkins.csv')\n",
    "df.info()\n",
    "df.head()\n",
    "\n",
    "missing_values = df.isnull().sum()\n",
    "print(missing_values[missing_values > 0])\n",
    "\n",
    "# 定义缺失值比例阈值\n",
    "missing_threshold = 0.75\n",
    "\n",
    "# 删除缺失值比例超过阈值的列\n",
    "drop = df.columns[df.isnull().mean() > missing_threshold]\n",
    "df = df.drop(drop, axis=1)\n",
    "\n",
    "missing_values = df.isnull().sum()\n",
    "print(missing_values[missing_values > 0])\n",
    "\n",
    "# 填充缺失值\n",
    "df['Variety'] = df['Variety'].fillna('unknown')\n",
    "df['Origin'] = df['Origin'].fillna('unknown')\n",
    "df['Item Size'] = df['Item Size'].fillna('unknown')\n",
    "df['Color'] = df['Color'].fillna('unknown')\n",
    "df['Mostly High'] = df['Mostly High'].fillna(df['Mostly High'].mean())\n",
    "df['Mostly Low'] = df['Mostly Low'].fillna(df['Mostly Low'].mean())\n",
    "\n",
    "# 将价格列转换为数值类型（去除美元符号并转换为浮点数）\n",
    "price_columns = ['Low Price', 'High Price', 'Mostly Low', 'Mostly High']\n",
    "for col in price_columns:\n",
    "    df[col] = df[col].replace({'\\$': '', ',': ''}, regex=True).astype(float)\n",
    "\n",
    "# 将日期列转换为日期类型\n",
    "df['Date'] = pd.to_datetime(df['Date'])\n",
    "\n",
    "# 识别分类变量列\n",
    "categorical_cols = df.select_dtypes(include=['object']).columns.tolist()\n",
    "print(\"分类变量列：\", categorical_cols)\n",
    "\n",
    "# 对分类变量进行独热编码\n",
    "df_encoded = pd.get_dummies(df, columns=categorical_cols, drop_first=True)\n",
    "print(\"\\n独热编码后数据集形状：\", df_encoded.shape)\n",
    "\n",
    "# 查看编码后数据示例\n",
    "print(\"\\n独热编码后数据前5行：\")\n",
    "pd.DataFrame(df_encoded.iloc[:5, :]).head()\n",
    "\n",
    "# 计算特征相关性矩阵\n",
    "correlation = df_encoded.corr()\n",
    "pd.DataFrame(correlation)\n",
    "\n",
    "# 提取与价格相关的特征相关性\n",
    "price_correlation = correlation['High Price'].sort_values(ascending=False)\n",
    "print(\"与High Price相关性强的特征：\")\n",
    "print(price_correlation[abs(price_correlation) > 0.3])\n",
    "\n",
    "# 选择与价格相关性强的特征\n",
    "# selected_features = ['Package_36 inch bins', 'Package_24 inch bins', 'City Name_BOSTON', 'Package_1/2 bushel cartons', 'Variety_MINIATURE']\n",
    "selected_features = price_correlation[abs(price_correlation) > 0.3].index\n",
    "print(selected_features)\n",
    "\n",
    "# 准备特征和目标变量\n",
    "y = df_encoded['High Price']\n",
    "X = df_encoded[selected_features].drop(columns = 'High Price')\n",
    "\n",
    "print(X.shape, y.shape)\n",
    "\n",
    "from sklearn.model_selection import train_test_split\n",
    "from sklearn.model_selection import GridSearchCV, cross_val_score, KFold\n",
    "from sklearn.ensemble import GradientBoostingRegressor\n",
    "from sklearn.metrics import mean_squared_error, r2_score, mean_absolute_error\n",
    "\n",
    "# 划分训练集和测试集\n",
    "X_train, X_test, y_train, y_test = train_test_split(X, y, test_size=0.2, random_state=42)\n",
    "\n",
    "# 构建GBDT模型\n",
    "gbdt = GradientBoostingRegressor(n_estimators=100, max_depth=4, random_state=42)\n",
    "\n",
    "gbdt.fit(X_train, y_train)\n",
    "\n",
    "y_pred = gbdt.predict(X_test)\n",
    "\n",
    "print(\"MSE:\", mean_squared_error(y_test, y_pred))\n",
    "print(\"R2:\", r2_score(y_test, y_pred))\n",
    "print(\"MAE:\", mean_absolute_error(y_test, y_pred))\n",
    "print(\"RMSE:\", np.sqrt(mean_squared_error(y_test, y_pred)))"
   ]
  },
  {
   "cell_type": "markdown",
   "id": "0bef45b7",
   "metadata": {},
   "source": [
    "# 数据处理（先划分再处理）"
   ]
  },
  {
   "cell_type": "code",
   "execution_count": 34,
   "id": "fc802bc8",
   "metadata": {},
   "outputs": [
    {
     "name": "stdout",
     "output_type": "stream",
     "text": [
      "<class 'pandas.core.frame.DataFrame'>\n",
      "RangeIndex: 1757 entries, 0 to 1756\n",
      "Data columns (total 26 columns):\n",
      " #   Column           Non-Null Count  Dtype  \n",
      "---  ------           --------------  -----  \n",
      " 0   City Name        1757 non-null   object \n",
      " 1   Type             45 non-null     object \n",
      " 2   Package          1757 non-null   object \n",
      " 3   Variety          1752 non-null   object \n",
      " 4   Sub Variety      296 non-null    object \n",
      " 5   Grade            0 non-null      float64\n",
      " 6   Date             1757 non-null   object \n",
      " 7   Low Price        1757 non-null   float64\n",
      " 8   High Price       1757 non-null   float64\n",
      " 9   Mostly Low       1654 non-null   float64\n",
      " 10  Mostly High      1654 non-null   float64\n",
      " 11  Origin           1754 non-null   object \n",
      " 12  Origin District  131 non-null    object \n",
      " 13  Item Size        1478 non-null   object \n",
      " 14  Color            1141 non-null   object \n",
      " 15  Environment      0 non-null      float64\n",
      " 16  Unit of Sale     162 non-null    object \n",
      " 17  Quality          0 non-null      float64\n",
      " 18  Condition        0 non-null      float64\n",
      " 19  Appearance       0 non-null      float64\n",
      " 20  Storage          0 non-null      float64\n",
      " 21  Crop             0 non-null      float64\n",
      " 22  Repack           1757 non-null   object \n",
      " 23  Trans Mode       0 non-null      float64\n",
      " 24  Unnamed: 24      0 non-null      float64\n",
      " 25  Unnamed: 25      103 non-null    object \n",
      "dtypes: float64(13), object(13)\n",
      "memory usage: 357.0+ KB\n"
     ]
    },
    {
     "data": {
      "text/html": [
       "<div>\n",
       "<style scoped>\n",
       "    .dataframe tbody tr th:only-of-type {\n",
       "        vertical-align: middle;\n",
       "    }\n",
       "\n",
       "    .dataframe tbody tr th {\n",
       "        vertical-align: top;\n",
       "    }\n",
       "\n",
       "    .dataframe thead th {\n",
       "        text-align: right;\n",
       "    }\n",
       "</style>\n",
       "<table border=\"1\" class=\"dataframe\">\n",
       "  <thead>\n",
       "    <tr style=\"text-align: right;\">\n",
       "      <th></th>\n",
       "      <th>City Name</th>\n",
       "      <th>Type</th>\n",
       "      <th>Package</th>\n",
       "      <th>Variety</th>\n",
       "      <th>Sub Variety</th>\n",
       "      <th>Grade</th>\n",
       "      <th>Date</th>\n",
       "      <th>Low Price</th>\n",
       "      <th>High Price</th>\n",
       "      <th>Mostly Low</th>\n",
       "      <th>...</th>\n",
       "      <th>Unit of Sale</th>\n",
       "      <th>Quality</th>\n",
       "      <th>Condition</th>\n",
       "      <th>Appearance</th>\n",
       "      <th>Storage</th>\n",
       "      <th>Crop</th>\n",
       "      <th>Repack</th>\n",
       "      <th>Trans Mode</th>\n",
       "      <th>Unnamed: 24</th>\n",
       "      <th>Unnamed: 25</th>\n",
       "    </tr>\n",
       "  </thead>\n",
       "  <tbody>\n",
       "    <tr>\n",
       "      <th>0</th>\n",
       "      <td>BALTIMORE</td>\n",
       "      <td>NaN</td>\n",
       "      <td>24 inch bins</td>\n",
       "      <td>NaN</td>\n",
       "      <td>NaN</td>\n",
       "      <td>NaN</td>\n",
       "      <td>4/29/17</td>\n",
       "      <td>270.0</td>\n",
       "      <td>280.0</td>\n",
       "      <td>270.0</td>\n",
       "      <td>...</td>\n",
       "      <td>NaN</td>\n",
       "      <td>NaN</td>\n",
       "      <td>NaN</td>\n",
       "      <td>NaN</td>\n",
       "      <td>NaN</td>\n",
       "      <td>NaN</td>\n",
       "      <td>E</td>\n",
       "      <td>NaN</td>\n",
       "      <td>NaN</td>\n",
       "      <td>NaN</td>\n",
       "    </tr>\n",
       "    <tr>\n",
       "      <th>1</th>\n",
       "      <td>BALTIMORE</td>\n",
       "      <td>NaN</td>\n",
       "      <td>24 inch bins</td>\n",
       "      <td>NaN</td>\n",
       "      <td>NaN</td>\n",
       "      <td>NaN</td>\n",
       "      <td>5/6/17</td>\n",
       "      <td>270.0</td>\n",
       "      <td>280.0</td>\n",
       "      <td>270.0</td>\n",
       "      <td>...</td>\n",
       "      <td>NaN</td>\n",
       "      <td>NaN</td>\n",
       "      <td>NaN</td>\n",
       "      <td>NaN</td>\n",
       "      <td>NaN</td>\n",
       "      <td>NaN</td>\n",
       "      <td>E</td>\n",
       "      <td>NaN</td>\n",
       "      <td>NaN</td>\n",
       "      <td>NaN</td>\n",
       "    </tr>\n",
       "    <tr>\n",
       "      <th>2</th>\n",
       "      <td>BALTIMORE</td>\n",
       "      <td>NaN</td>\n",
       "      <td>24 inch bins</td>\n",
       "      <td>HOWDEN TYPE</td>\n",
       "      <td>NaN</td>\n",
       "      <td>NaN</td>\n",
       "      <td>9/24/16</td>\n",
       "      <td>160.0</td>\n",
       "      <td>160.0</td>\n",
       "      <td>160.0</td>\n",
       "      <td>...</td>\n",
       "      <td>NaN</td>\n",
       "      <td>NaN</td>\n",
       "      <td>NaN</td>\n",
       "      <td>NaN</td>\n",
       "      <td>NaN</td>\n",
       "      <td>NaN</td>\n",
       "      <td>N</td>\n",
       "      <td>NaN</td>\n",
       "      <td>NaN</td>\n",
       "      <td>NaN</td>\n",
       "    </tr>\n",
       "    <tr>\n",
       "      <th>3</th>\n",
       "      <td>BALTIMORE</td>\n",
       "      <td>NaN</td>\n",
       "      <td>24 inch bins</td>\n",
       "      <td>HOWDEN TYPE</td>\n",
       "      <td>NaN</td>\n",
       "      <td>NaN</td>\n",
       "      <td>9/24/16</td>\n",
       "      <td>160.0</td>\n",
       "      <td>160.0</td>\n",
       "      <td>160.0</td>\n",
       "      <td>...</td>\n",
       "      <td>NaN</td>\n",
       "      <td>NaN</td>\n",
       "      <td>NaN</td>\n",
       "      <td>NaN</td>\n",
       "      <td>NaN</td>\n",
       "      <td>NaN</td>\n",
       "      <td>N</td>\n",
       "      <td>NaN</td>\n",
       "      <td>NaN</td>\n",
       "      <td>NaN</td>\n",
       "    </tr>\n",
       "    <tr>\n",
       "      <th>4</th>\n",
       "      <td>BALTIMORE</td>\n",
       "      <td>NaN</td>\n",
       "      <td>24 inch bins</td>\n",
       "      <td>HOWDEN TYPE</td>\n",
       "      <td>NaN</td>\n",
       "      <td>NaN</td>\n",
       "      <td>11/5/16</td>\n",
       "      <td>90.0</td>\n",
       "      <td>100.0</td>\n",
       "      <td>90.0</td>\n",
       "      <td>...</td>\n",
       "      <td>NaN</td>\n",
       "      <td>NaN</td>\n",
       "      <td>NaN</td>\n",
       "      <td>NaN</td>\n",
       "      <td>NaN</td>\n",
       "      <td>NaN</td>\n",
       "      <td>N</td>\n",
       "      <td>NaN</td>\n",
       "      <td>NaN</td>\n",
       "      <td>NaN</td>\n",
       "    </tr>\n",
       "  </tbody>\n",
       "</table>\n",
       "<p>5 rows × 26 columns</p>\n",
       "</div>"
      ],
      "text/plain": [
       "   City Name Type       Package      Variety Sub Variety  Grade     Date  \\\n",
       "0  BALTIMORE  NaN  24 inch bins          NaN         NaN    NaN  4/29/17   \n",
       "1  BALTIMORE  NaN  24 inch bins          NaN         NaN    NaN   5/6/17   \n",
       "2  BALTIMORE  NaN  24 inch bins  HOWDEN TYPE         NaN    NaN  9/24/16   \n",
       "3  BALTIMORE  NaN  24 inch bins  HOWDEN TYPE         NaN    NaN  9/24/16   \n",
       "4  BALTIMORE  NaN  24 inch bins  HOWDEN TYPE         NaN    NaN  11/5/16   \n",
       "\n",
       "   Low Price  High Price  Mostly Low  ...  Unit of Sale Quality Condition  \\\n",
       "0      270.0       280.0       270.0  ...           NaN     NaN       NaN   \n",
       "1      270.0       280.0       270.0  ...           NaN     NaN       NaN   \n",
       "2      160.0       160.0       160.0  ...           NaN     NaN       NaN   \n",
       "3      160.0       160.0       160.0  ...           NaN     NaN       NaN   \n",
       "4       90.0       100.0        90.0  ...           NaN     NaN       NaN   \n",
       "\n",
       "  Appearance Storage  Crop Repack  Trans Mode  Unnamed: 24  Unnamed: 25  \n",
       "0        NaN     NaN   NaN      E         NaN          NaN          NaN  \n",
       "1        NaN     NaN   NaN      E         NaN          NaN          NaN  \n",
       "2        NaN     NaN   NaN      N         NaN          NaN          NaN  \n",
       "3        NaN     NaN   NaN      N         NaN          NaN          NaN  \n",
       "4        NaN     NaN   NaN      N         NaN          NaN          NaN  \n",
       "\n",
       "[5 rows x 26 columns]"
      ]
     },
     "execution_count": 34,
     "metadata": {},
     "output_type": "execute_result"
    }
   ],
   "source": [
    "import pandas as pd\n",
    "import numpy as np\n",
    "import warnings\n",
    "warnings.filterwarnings('ignore')\n",
    "\n",
    "df = pd.read_csv('US-pumpkins.csv')\n",
    "df.info()\n",
    "df.head()"
   ]
  },
  {
   "cell_type": "code",
   "execution_count": 21,
   "id": "a86e0787",
   "metadata": {},
   "outputs": [
    {
     "name": "stdout",
     "output_type": "stream",
     "text": [
      "训练集大小: (1405, 25)\n",
      "测试集大小: (352, 25)\n"
     ]
    }
   ],
   "source": [
    "from sklearn.model_selection import train_test_split\n",
    "\n",
    "# 预测 'Mostly High' 价格\n",
    "X = df.drop(columns=['Mostly High'])\n",
    "y = df['Mostly High']\n",
    "\n",
    "# 划分训练集和测试集\n",
    "X_train, X_test, y_train, y_test = train_test_split(X, y, test_size=0.2, random_state=42)\n",
    "\n",
    "print(f\"训练集大小: {X_train.shape}\")\n",
    "print(f\"测试集大小: {X_test.shape}\")"
   ]
  },
  {
   "cell_type": "code",
   "execution_count": 29,
   "id": "0b2b42e2",
   "metadata": {},
   "outputs": [],
   "source": [
    "# 将价格列转换为数值类型（去除美元符号并转换为浮点数）\n",
    "price_columns = ['Low Price', 'High Price', 'Mostly Low', 'Mostly High']\n",
    "for col in price_columns:\n",
    "    df[col] = df[col].replace({'\\$': '', ',': ''}, regex=True).astype(float)\n",
    "\n",
    "# 将日期列转换为日期类型\n",
    "df['Date'] = pd.to_datetime(df['Date'])"
   ]
  },
  {
   "cell_type": "code",
   "execution_count": 35,
   "id": "09362133",
   "metadata": {},
   "outputs": [
    {
     "name": "stdout",
     "output_type": "stream",
     "text": [
      "Low Price      float64\n",
      "High Price     float64\n",
      "Mostly Low     float64\n",
      "Mostly High    float64\n",
      "Date            object\n",
      "dtype: object\n",
      "   Low Price  High Price  Mostly Low  Mostly High     Date\n",
      "0      270.0       280.0       270.0        280.0  4/29/17\n",
      "1      270.0       280.0       270.0        280.0   5/6/17\n",
      "2      160.0       160.0       160.0        160.0  9/24/16\n",
      "3      160.0       160.0       160.0        160.0  9/24/16\n",
      "4       90.0       100.0        90.0        100.0  11/5/16\n"
     ]
    }
   ],
   "source": [
    "# 查看转换后的数据类型\n",
    "print(df[price_columns + ['Date']].dtypes)\n",
    "\n",
    "# 查看前几行数据\n",
    "print(df[price_columns + ['Date']].head())"
   ]
  },
  {
   "cell_type": "code",
   "execution_count": 24,
   "id": "96f0f0dc",
   "metadata": {},
   "outputs": [
    {
     "name": "stdout",
     "output_type": "stream",
     "text": [
      "City Name          0.000000\n",
      "Type               0.972242\n",
      "Package            0.000000\n",
      "Variety            0.003559\n",
      "Sub Variety        0.830605\n",
      "Grade              1.000000\n",
      "Date               0.000000\n",
      "Low Price          0.000000\n",
      "High Price         0.000000\n",
      "Mostly Low         0.056228\n",
      "Origin             0.000712\n",
      "Origin District    0.923843\n",
      "Item Size          0.168683\n",
      "Color              0.359431\n",
      "Environment        1.000000\n",
      "Unit of Sale       0.908897\n",
      "Quality            1.000000\n",
      "Condition          1.000000\n",
      "Appearance         1.000000\n",
      "Storage            1.000000\n",
      "Crop               1.000000\n",
      "Repack             0.000000\n",
      "Trans Mode         1.000000\n",
      "Unnamed: 24        1.000000\n",
      "Unnamed: 25        0.943772\n",
      "dtype: float64\n"
     ]
    }
   ],
   "source": [
    "# 计算每列的缺失值比例\n",
    "missing_ratio = X_train.isnull().mean()\n",
    "\n",
    "print(missing_ratio)"
   ]
  },
  {
   "cell_type": "code",
   "execution_count": 25,
   "id": "530df3e4",
   "metadata": {},
   "outputs": [
    {
     "name": "stdout",
     "output_type": "stream",
     "text": [
      "删除了 14 列缺失值过多的列：['Type', 'Sub Variety', 'Grade', 'Origin District', 'Environment', 'Unit of Sale', 'Quality', 'Condition', 'Appearance', 'Storage', 'Crop', 'Trans Mode', 'Unnamed: 24', 'Unnamed: 25']\n"
     ]
    }
   ],
   "source": [
    "# 设置阈值，比如删除缺失值超过 50% 的列\n",
    "threshold = 0.50\n",
    "cols_to_drop = missing_ratio[missing_ratio > threshold].index\n",
    "\n",
    "# 删除缺失值过多的列\n",
    "X_train = X_train.drop(columns=cols_to_drop)\n",
    "X_test = X_test.drop(columns=cols_to_drop)\n",
    "\n",
    "print(f\"删除了 {len(cols_to_drop)} 列缺失值过多的列：{list(cols_to_drop)}\")"
   ]
  },
  {
   "cell_type": "code",
   "execution_count": 32,
   "id": "f952fc46",
   "metadata": {},
   "outputs": [
    {
     "name": "stdout",
     "output_type": "stream",
     "text": [
      "数值列数量：3\n",
      "数值列：['Low Price', 'High Price', 'Mostly Low']\n"
     ]
    }
   ],
   "source": [
    "# 再次确认数值列\n",
    "numerical_cols = X_train.select_dtypes(include=['int64', 'float64']).columns\n",
    "print(f\"数值列数量：{len(numerical_cols)}\")\n",
    "print(f\"数值列：{list(numerical_cols)}\")"
   ]
  },
  {
   "cell_type": "code",
   "execution_count": 33,
   "id": "698ec15a",
   "metadata": {},
   "outputs": [],
   "source": [
    "from sklearn.impute import SimpleImputer\n",
    "\n",
    "# 填充剩余数值列的缺失值\n",
    "imputer_num = SimpleImputer(strategy='median')\n",
    "\n",
    "X_train[numerical_cols] = pd.DataFrame(\n",
    "    imputer_num.fit_transform(X_train[numerical_cols]),\n",
    "    columns=numerical_cols,\n",
    "    index=X_train.index\n",
    ")\n",
    "\n",
    "X_test[numerical_cols] = pd.DataFrame(\n",
    "    imputer_num.transform(X_test[numerical_cols]),\n",
    "    columns=numerical_cols,\n",
    "    index=X_test.index\n",
    ")"
   ]
  },
  {
   "cell_type": "code",
   "execution_count": 37,
   "id": "e436b832",
   "metadata": {},
   "outputs": [
    {
     "name": "stdout",
     "output_type": "stream",
     "text": [
      "分类变量列： ['City Name', 'Package', 'Variety', 'Date', 'Origin', 'Item Size', 'Color', 'Repack']\n"
     ]
    }
   ],
   "source": [
    "# 找出所有的分类变量列（object 类型）\n",
    "categorical_cols = X_train.select_dtypes(include=['object']).columns\n",
    "\n",
    "print(\"分类变量列：\", list(categorical_cols))"
   ]
  },
  {
   "cell_type": "code",
   "execution_count": 41,
   "id": "b32abb43",
   "metadata": {},
   "outputs": [
    {
     "name": "stdout",
     "output_type": "stream",
     "text": [
      "分类变量的缺失值已填充完成。\n"
     ]
    }
   ],
   "source": [
    "from sklearn.impute import SimpleImputer\n",
    "\n",
    "# 创建分类变量的填充器（使用众数填充）\n",
    "imputer_cat = SimpleImputer(strategy='most_frequent')\n",
    "\n",
    "# 对分类变量进行填充\n",
    "X_train[categorical_cols] = imputer_cat.fit_transform(X_train[categorical_cols])\n",
    "\n",
    "print(\"分类变量的缺失值已填充完成。\")"
   ]
  },
  {
   "cell_type": "code",
   "execution_count": 42,
   "id": "6f3e669a",
   "metadata": {},
   "outputs": [
    {
     "name": "stdout",
     "output_type": "stream",
     "text": [
      "City Name    0\n",
      "Package      0\n",
      "Variety      0\n",
      "Date         0\n",
      "Origin       0\n",
      "Item Size    0\n",
      "Color        0\n",
      "Repack       0\n",
      "dtype: int64\n",
      "         City Name               Package        Variety      Date  Low Price  \\\n",
      "199        ATLANTA          24 inch bins       PIE TYPE  11/12/16      123.5   \n",
      "700        CHICAGO  1 1/9 bushel cartons       PIE TYPE   8/26/17       20.0   \n",
      "526         BOSTON          36 inch bins  BIG MACK TYPE   9/23/17      175.0   \n",
      "1223      NEW YORK    1/2 bushel cartons      MINIATURE   10/1/16       20.0   \n",
      "1602  PHILADELPHIA          36 inch bins    HOWDEN TYPE   10/1/16      140.0   \n",
      "\n",
      "      High Price  Mostly Low          Origin Item Size   Color Repack  \n",
      "199        135.0       123.5  NORTH CAROLINA       sml  ORANGE      N  \n",
      "700         20.0        20.0        ILLINOIS       med  ORANGE      N  \n",
      "526        200.0       185.0    PENNSYLVANIA      xlge  ORANGE      N  \n",
      "1223        20.0        20.0            OHIO       sml   WHITE      N  \n",
      "1602       140.0       140.0    PENNSYLVANIA   med-lge  ORANGE      N  \n"
     ]
    }
   ],
   "source": [
    "# 检查是否还有缺失值\n",
    "print(X_train[categorical_cols].isnull().sum())\n",
    "print(X_train.head())"
   ]
  },
  {
   "cell_type": "code",
   "execution_count": null,
   "id": "435ac185",
   "metadata": {},
   "outputs": [],
   "source": []
  }
 ],
 "metadata": {
  "kernelspec": {
   "display_name": "Python 3",
   "language": "python",
   "name": "python3"
  },
  "language_info": {
   "codemirror_mode": {
    "name": "ipython",
    "version": 3
   },
   "file_extension": ".py",
   "mimetype": "text/x-python",
   "name": "python",
   "nbconvert_exporter": "python",
   "pygments_lexer": "ipython3",
   "version": "3.10.11"
  }
 },
 "nbformat": 4,
 "nbformat_minor": 5
}
