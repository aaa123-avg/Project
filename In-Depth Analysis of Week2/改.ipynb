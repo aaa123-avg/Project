{
 "cells": [
  {
   "cell_type": "code",
   "execution_count": null,
   "id": "15ff0fb8",
   "metadata": {},
   "outputs": [],
   "source": [
    "'''数据分析：删除缺失值、相关性分析、数据划分\n",
    "特征处理：缺失值填充、编码、异常值处理、归一化、去重复值\n",
    "模型训练：模型选择、调参、错误分析、训练集测试集评价\n",
    "'''"
   ]
  }
 ],
 "metadata": {
  "language_info": {
   "name": "python"
  }
 },
 "nbformat": 4,
 "nbformat_minor": 5
}
